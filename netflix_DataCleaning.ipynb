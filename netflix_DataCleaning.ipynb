{
 "cells": [
  {
   "cell_type": "code",
   "execution_count": 1,
   "id": "1eda1593",
   "metadata": {},
   "outputs": [],
   "source": [
    "import numpy as np\n",
    "import pandas as pd"
   ]
  },
  {
   "cell_type": "markdown",
   "id": "6ad04673",
   "metadata": {},
   "source": [
    "# loading the data"
   ]
  },
  {
   "cell_type": "code",
   "execution_count": 2,
   "id": "3070e1a5",
   "metadata": {},
   "outputs": [],
   "source": [
    "df_netflix = pd.read_csv('/mnt/c/Users/arina/Desktop/practice/netflix project/netflix_originals.csv')"
   ]
  },
  {
   "cell_type": "code",
   "execution_count": 3,
   "id": "73bd5e86",
   "metadata": {},
   "outputs": [
    {
     "data": {
      "text/html": [
       "<div>\n",
       "<style scoped>\n",
       "    .dataframe tbody tr th:only-of-type {\n",
       "        vertical-align: middle;\n",
       "    }\n",
       "\n",
       "    .dataframe tbody tr th {\n",
       "        vertical-align: top;\n",
       "    }\n",
       "\n",
       "    .dataframe thead th {\n",
       "        text-align: right;\n",
       "    }\n",
       "</style>\n",
       "<table border=\"1\" class=\"dataframe\">\n",
       "  <thead>\n",
       "    <tr style=\"text-align: right;\">\n",
       "      <th></th>\n",
       "      <th>titles</th>\n",
       "      <th>years</th>\n",
       "      <th>genres</th>\n",
       "      <th>imdb</th>\n",
       "      <th>runtime</th>\n",
       "      <th>description</th>\n",
       "      <th>stars</th>\n",
       "      <th>votes</th>\n",
       "      <th>type</th>\n",
       "      <th>original</th>\n",
       "    </tr>\n",
       "  </thead>\n",
       "  <tbody>\n",
       "    <tr>\n",
       "      <th>0</th>\n",
       "      <td>Zumbo's Just Desserts</td>\n",
       "      <td>2016</td>\n",
       "      <td>Reality-TV</td>\n",
       "      <td>6.9</td>\n",
       "      <td>52 min</td>\n",
       "      <td>Amateur Australian chefs compete to impress pa...</td>\n",
       "      <td>Gigi Falanga, Rachel Khoo, Adriano Zumbo</td>\n",
       "      <td>1,779</td>\n",
       "      <td>TV Show</td>\n",
       "      <td>Netflix</td>\n",
       "    </tr>\n",
       "    <tr>\n",
       "      <th>1</th>\n",
       "      <td>Zona Rosa</td>\n",
       "      <td>2019</td>\n",
       "      <td>Comedy</td>\n",
       "      <td>6.0</td>\n",
       "      <td>NaN</td>\n",
       "      <td>Add a Plot</td>\n",
       "      <td>Ray Contreras, Pablo Morán, Manu Nna, Ana Juli...</td>\n",
       "      <td>33</td>\n",
       "      <td>TV Show</td>\n",
       "      <td>Netflix</td>\n",
       "    </tr>\n",
       "    <tr>\n",
       "      <th>2</th>\n",
       "      <td>Young Wallander</td>\n",
       "      <td>2020</td>\n",
       "      <td>Crime, Drama, Mystery</td>\n",
       "      <td>6.7</td>\n",
       "      <td>NaN</td>\n",
       "      <td>Follow recently graduated police officer Kurt ...</td>\n",
       "      <td>Adam Pålsson, Leanne Best, Richard Dillane, El...</td>\n",
       "      <td>5,419</td>\n",
       "      <td>TV Show</td>\n",
       "      <td>Netflix</td>\n",
       "    </tr>\n",
       "    <tr>\n",
       "      <th>3</th>\n",
       "      <td>You vs. Wild</td>\n",
       "      <td>2019</td>\n",
       "      <td>Adventure, Reality-TV</td>\n",
       "      <td>6.7</td>\n",
       "      <td>20 min</td>\n",
       "      <td>In this interactive series, you'll make key de...</td>\n",
       "      <td>Bear Grylls</td>\n",
       "      <td>1,977</td>\n",
       "      <td>TV Show</td>\n",
       "      <td>Netflix</td>\n",
       "    </tr>\n",
       "    <tr>\n",
       "      <th>4</th>\n",
       "      <td>You</td>\n",
       "      <td>2018</td>\n",
       "      <td>Crime, Drama, Romance</td>\n",
       "      <td>7.8</td>\n",
       "      <td>45 min</td>\n",
       "      <td>A dangerously charming, intensely obsessive yo...</td>\n",
       "      <td>Penn Badgley, Victoria Pedretti, Ambyr Childer...</td>\n",
       "      <td>134,932</td>\n",
       "      <td>TV Show</td>\n",
       "      <td>Netflix</td>\n",
       "    </tr>\n",
       "  </tbody>\n",
       "</table>\n",
       "</div>"
      ],
      "text/plain": [
       "                  titles  years                 genres  imdb runtime  \\\n",
       "0  Zumbo's Just Desserts   2016             Reality-TV   6.9  52 min   \n",
       "1              Zona Rosa   2019                 Comedy   6.0     NaN   \n",
       "2        Young Wallander   2020  Crime, Drama, Mystery   6.7     NaN   \n",
       "3           You vs. Wild   2019  Adventure, Reality-TV   6.7  20 min   \n",
       "4                    You   2018  Crime, Drama, Romance   7.8  45 min   \n",
       "\n",
       "                                         description  \\\n",
       "0  Amateur Australian chefs compete to impress pa...   \n",
       "1                                         Add a Plot   \n",
       "2  Follow recently graduated police officer Kurt ...   \n",
       "3  In this interactive series, you'll make key de...   \n",
       "4  A dangerously charming, intensely obsessive yo...   \n",
       "\n",
       "                                               stars    votes     type  \\\n",
       "0           Gigi Falanga, Rachel Khoo, Adriano Zumbo    1,779  TV Show   \n",
       "1  Ray Contreras, Pablo Morán, Manu Nna, Ana Juli...       33  TV Show   \n",
       "2  Adam Pålsson, Leanne Best, Richard Dillane, El...    5,419  TV Show   \n",
       "3                                        Bear Grylls    1,977  TV Show   \n",
       "4  Penn Badgley, Victoria Pedretti, Ambyr Childer...  134,932  TV Show   \n",
       "\n",
       "  original  \n",
       "0  Netflix  \n",
       "1  Netflix  \n",
       "2  Netflix  \n",
       "3  Netflix  \n",
       "4  Netflix  "
      ]
     },
     "execution_count": 3,
     "metadata": {},
     "output_type": "execute_result"
    }
   ],
   "source": [
    "df_netflix.head()"
   ]
  },
  {
   "cell_type": "code",
   "execution_count": 4,
   "id": "915a82d5",
   "metadata": {},
   "outputs": [
    {
     "data": {
      "text/plain": [
       "titles          object\n",
       "years            int64\n",
       "genres          object\n",
       "imdb           float64\n",
       "runtime         object\n",
       "description     object\n",
       "stars           object\n",
       "votes           object\n",
       "type            object\n",
       "original        object\n",
       "dtype: object"
      ]
     },
     "execution_count": 4,
     "metadata": {},
     "output_type": "execute_result"
    }
   ],
   "source": [
    "df_netflix.dtypes"
   ]
  },
  {
   "cell_type": "code",
   "execution_count": 5,
   "id": "335eafb6",
   "metadata": {},
   "outputs": [
    {
     "name": "stdout",
     "output_type": "stream",
     "text": [
      "<class 'pandas.core.frame.DataFrame'>\n",
      "RangeIndex: 1517 entries, 0 to 1516\n",
      "Data columns (total 10 columns):\n",
      " #   Column       Non-Null Count  Dtype  \n",
      "---  ------       --------------  -----  \n",
      " 0   titles       1517 non-null   object \n",
      " 1   years        1517 non-null   int64  \n",
      " 2   genres       1516 non-null   object \n",
      " 3   imdb         1512 non-null   float64\n",
      " 4   runtime      1276 non-null   object \n",
      " 5   description  1517 non-null   object \n",
      " 6   stars        1489 non-null   object \n",
      " 7   votes        1516 non-null   object \n",
      " 8   type         1517 non-null   object \n",
      " 9   original     1517 non-null   object \n",
      "dtypes: float64(1), int64(1), object(8)\n",
      "memory usage: 118.6+ KB\n"
     ]
    }
   ],
   "source": [
    "df_netflix.info()"
   ]
  },
  {
   "cell_type": "markdown",
   "id": "929ef510",
   "metadata": {},
   "source": [
    "## overall check"
   ]
  },
  {
   "cell_type": "code",
   "execution_count": 6,
   "id": "a9f69b20",
   "metadata": {},
   "outputs": [],
   "source": [
    "# Convert 'runtime' column to numeric (in minutes) by removing ' min' suffix and coercing to integer\n",
    "df_netflix[\"runtime\"] = df_netflix[\"runtime\"].str.replace(' min', '', regex=False)\n",
    "df_netflix['runtime'] = pd.to_numeric(df_netflix['runtime'], errors='coerce').astype('Int64')\n"
   ]
  },
  {
   "cell_type": "code",
   "execution_count": 7,
   "id": "054e26b5",
   "metadata": {},
   "outputs": [],
   "source": [
    "df_netflix['votes'] = pd.to_numeric(df_netflix['votes'], errors='coerce')"
   ]
  },
  {
   "cell_type": "code",
   "execution_count": 8,
   "id": "88e77db7",
   "metadata": {},
   "outputs": [
    {
     "data": {
      "text/plain": [
       "np.int64(2)"
      ]
     },
     "execution_count": 8,
     "metadata": {},
     "output_type": "execute_result"
    }
   ],
   "source": [
    "#total number of duplicate rows\n",
    "df_netflix.duplicated().sum()"
   ]
  },
  {
   "cell_type": "code",
   "execution_count": 9,
   "id": "e141ba46",
   "metadata": {},
   "outputs": [
    {
     "data": {
      "text/html": [
       "<div>\n",
       "<style scoped>\n",
       "    .dataframe tbody tr th:only-of-type {\n",
       "        vertical-align: middle;\n",
       "    }\n",
       "\n",
       "    .dataframe tbody tr th {\n",
       "        vertical-align: top;\n",
       "    }\n",
       "\n",
       "    .dataframe thead th {\n",
       "        text-align: right;\n",
       "    }\n",
       "</style>\n",
       "<table border=\"1\" class=\"dataframe\">\n",
       "  <thead>\n",
       "    <tr style=\"text-align: right;\">\n",
       "      <th></th>\n",
       "      <th>titles</th>\n",
       "      <th>years</th>\n",
       "      <th>genres</th>\n",
       "      <th>imdb</th>\n",
       "      <th>runtime</th>\n",
       "      <th>description</th>\n",
       "      <th>stars</th>\n",
       "      <th>votes</th>\n",
       "      <th>type</th>\n",
       "      <th>original</th>\n",
       "    </tr>\n",
       "  </thead>\n",
       "  <tbody>\n",
       "    <tr>\n",
       "      <th>368</th>\n",
       "      <td>Kipo and the Age of Wonderbeasts</td>\n",
       "      <td>2020</td>\n",
       "      <td>Animation, Action, Adventure</td>\n",
       "      <td>8.4</td>\n",
       "      <td>24</td>\n",
       "      <td>A girl explores the possibilities in a post-ap...</td>\n",
       "      <td>Karen Fukuhara, Sydney Mikayla, Dee Bradley Ba...</td>\n",
       "      <td>NaN</td>\n",
       "      <td>TV Show</td>\n",
       "      <td>Netflix</td>\n",
       "    </tr>\n",
       "    <tr>\n",
       "      <th>1199</th>\n",
       "      <td>Jo Koy: In His Elements</td>\n",
       "      <td>2020</td>\n",
       "      <td>Comedy</td>\n",
       "      <td>5.1</td>\n",
       "      <td>55</td>\n",
       "      <td>Jo Koy returns to the Philippines to show off ...</td>\n",
       "      <td>Michael McKay, A, Fateeha, Joey Guila, Jo Koy</td>\n",
       "      <td>350.0</td>\n",
       "      <td>TV Show</td>\n",
       "      <td>Netflix</td>\n",
       "    </tr>\n",
       "  </tbody>\n",
       "</table>\n",
       "</div>"
      ],
      "text/plain": [
       "                                titles  years                        genres  \\\n",
       "368   Kipo and the Age of Wonderbeasts   2020  Animation, Action, Adventure   \n",
       "1199           Jo Koy: In His Elements   2020                        Comedy   \n",
       "\n",
       "      imdb  runtime                                        description  \\\n",
       "368    8.4       24  A girl explores the possibilities in a post-ap...   \n",
       "1199   5.1       55  Jo Koy returns to the Philippines to show off ...   \n",
       "\n",
       "                                                  stars  votes     type  \\\n",
       "368   Karen Fukuhara, Sydney Mikayla, Dee Bradley Ba...    NaN  TV Show   \n",
       "1199      Michael McKay, A, Fateeha, Joey Guila, Jo Koy  350.0  TV Show   \n",
       "\n",
       "     original  \n",
       "368   Netflix  \n",
       "1199  Netflix  "
      ]
     },
     "execution_count": 9,
     "metadata": {},
     "output_type": "execute_result"
    }
   ],
   "source": [
    "df_netflix[df_netflix.duplicated()]"
   ]
  },
  {
   "cell_type": "code",
   "execution_count": 10,
   "id": "19345801",
   "metadata": {},
   "outputs": [],
   "source": [
    "#delete the duplicate rows\n",
    "df_netflix.drop_duplicates(inplace=True)"
   ]
  },
  {
   "cell_type": "code",
   "execution_count": 11,
   "id": "75a76c13",
   "metadata": {},
   "outputs": [
    {
     "data": {
      "text/plain": [
       "titles         string[python]\n",
       "years                   Int64\n",
       "genres         string[python]\n",
       "imdb                  Float64\n",
       "runtime                 Int64\n",
       "description    string[python]\n",
       "stars          string[python]\n",
       "votes                   Int64\n",
       "type           string[python]\n",
       "original       string[python]\n",
       "dtype: object"
      ]
     },
     "execution_count": 11,
     "metadata": {},
     "output_type": "execute_result"
    }
   ],
   "source": [
    "# pandas automatic dtype fixer\n",
    "df_netflix = df_netflix.convert_dtypes()\n",
    "df_netflix.dtypes"
   ]
  },
  {
   "cell_type": "markdown",
   "id": "9607b2f1",
   "metadata": {},
   "source": [
    "## dealing with null values"
   ]
  },
  {
   "cell_type": "code",
   "execution_count": 12,
   "id": "a572fcb4",
   "metadata": {},
   "outputs": [
    {
     "data": {
      "text/plain": [
       "votes          64.224422\n",
       "runtime        15.907591\n",
       "stars           1.848185\n",
       "imdb            0.330033\n",
       "genres          0.066007\n",
       "titles          0.000000\n",
       "years           0.000000\n",
       "description     0.000000\n",
       "type            0.000000\n",
       "original        0.000000\n",
       "dtype: float64"
      ]
     },
     "execution_count": 12,
     "metadata": {},
     "output_type": "execute_result"
    }
   ],
   "source": [
    "#percentage of null values\n",
    "((df_netflix.isnull().sum()/len(df_netflix)) * 100).sort_values(ascending=False)\n"
   ]
  },
  {
   "cell_type": "code",
   "execution_count": 13,
   "id": "16c826c0",
   "metadata": {},
   "outputs": [
    {
     "data": {
      "text/plain": [
       "type\n",
       "TV Show    1010\n",
       "Movie       505\n",
       "Name: count, dtype: Int64"
      ]
     },
     "execution_count": 13,
     "metadata": {},
     "output_type": "execute_result"
    }
   ],
   "source": [
    "# Display the count of unique values in the 'type' column (e.g., number of movies vs. TV shows)\n",
    "df_netflix[\"type\"].value_counts()"
   ]
  },
  {
   "cell_type": "code",
   "execution_count": 14,
   "id": "abbe8a85",
   "metadata": {},
   "outputs": [],
   "source": [
    "# Filter out rows where 'imdb' is greater than 10 or less than 0\n",
    "df_netflix = df_netflix[~((df_netflix['imdb'] > 10) | (df_netflix['imdb'] < 0))]"
   ]
  },
  {
   "cell_type": "code",
   "execution_count": 15,
   "id": "6e96a98b",
   "metadata": {},
   "outputs": [
    {
     "data": {
      "text/plain": [
       "type\n",
       "Movie      96.0\n",
       "TV Show    50.0\n",
       "Name: runtime, dtype: Float64"
      ]
     },
     "execution_count": 15,
     "metadata": {},
     "output_type": "execute_result"
    }
   ],
   "source": [
    "# Calculate and display the median runtime for each content type (Movie, TV Show)\n",
    "median_runtime_per_type = df_netflix.groupby('type')[\"runtime\"].median()\n",
    "median_runtime_per_type"
   ]
  },
  {
   "cell_type": "code",
   "execution_count": 16,
   "id": "9ea0713c",
   "metadata": {},
   "outputs": [],
   "source": [
    "# Fill missing 'runtime' values based on the median runtime of their respective content 'type'\n",
    "df_netflix[\"runtime\"] = df_netflix[\"runtime\"].fillna(df_netflix[\"type\"].map(median_runtime_per_type))\n"
   ]
  },
  {
   "cell_type": "code",
   "execution_count": 17,
   "id": "916df29a",
   "metadata": {},
   "outputs": [
    {
     "data": {
      "text/plain": [
       "votes          64.304636\n",
       "stars           1.788079\n",
       "genres          0.066225\n",
       "titles          0.000000\n",
       "years           0.000000\n",
       "imdb            0.000000\n",
       "description     0.000000\n",
       "runtime         0.000000\n",
       "type            0.000000\n",
       "original        0.000000\n",
       "dtype: float64"
      ]
     },
     "execution_count": 17,
     "metadata": {},
     "output_type": "execute_result"
    }
   ],
   "source": [
    "#percentage of nuul values\n",
    "((df_netflix.isnull().sum() / len(df_netflix)) *100).sort_values(ascending=False)"
   ]
  },
  {
   "cell_type": "code",
   "execution_count": 18,
   "id": "4a238cbf",
   "metadata": {},
   "outputs": [
    {
     "name": "stdout",
     "output_type": "stream",
     "text": [
      "<class 'pandas.core.frame.DataFrame'>\n",
      "Index: 1510 entries, 0 to 1516\n",
      "Data columns (total 10 columns):\n",
      " #   Column       Non-Null Count  Dtype  \n",
      "---  ------       --------------  -----  \n",
      " 0   titles       1510 non-null   string \n",
      " 1   years        1510 non-null   Int64  \n",
      " 2   genres       1509 non-null   string \n",
      " 3   imdb         1510 non-null   Float64\n",
      " 4   runtime      1510 non-null   Int64  \n",
      " 5   description  1510 non-null   string \n",
      " 6   stars        1483 non-null   string \n",
      " 7   votes        539 non-null    Int64  \n",
      " 8   type         1510 non-null   string \n",
      " 9   original     1510 non-null   string \n",
      "dtypes: Float64(1), Int64(3), string(6)\n",
      "memory usage: 135.7 KB\n"
     ]
    }
   ],
   "source": [
    "df_netflix.info()"
   ]
  },
  {
   "cell_type": "code",
   "execution_count": 19,
   "id": "8540b6c1",
   "metadata": {},
   "outputs": [],
   "source": [
    "\n",
    "df_netflix.to_excel(\"clean_netflix_data.xlsx\",index=False)"
   ]
  }
 ],
 "metadata": {
  "kernelspec": {
   "display_name": "main",
   "language": "python",
   "name": "python3"
  },
  "language_info": {
   "codemirror_mode": {
    "name": "ipython",
    "version": 3
   },
   "file_extension": ".py",
   "mimetype": "text/x-python",
   "name": "python",
   "nbconvert_exporter": "python",
   "pygments_lexer": "ipython3",
   "version": "3.13.2"
  }
 },
 "nbformat": 4,
 "nbformat_minor": 5
}
